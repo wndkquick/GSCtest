{
  "nbformat": 4,
  "nbformat_minor": 0,
  "metadata": {
    "colab": {
      "name": "Scrape Wunderground",
      "provenance": [],
      "authorship_tag": "ABX9TyNKqe2cuAhBSvKsm6rnWS5j",
      "include_colab_link": true
    },
    "kernelspec": {
      "name": "python3",
      "display_name": "Python 3"
    },
    "language_info": {
      "name": "python"
    }
  },
  "cells": [
    {
      "cell_type": "markdown",
      "metadata": {
        "id": "view-in-github",
        "colab_type": "text"
      },
      "source": [
        "<a href=\"https://colab.research.google.com/github/wndkquick/GSCtest/blob/main/Scrape_Wunderground.ipynb\" target=\"_parent\"><img src=\"https://colab.research.google.com/assets/colab-badge.svg\" alt=\"Open In Colab\"/></a>"
      ]
    },
    {
      "cell_type": "code",
      "execution_count": null,
      "metadata": {
        "id": "BNVmWa10v6u5"
      },
      "outputs": [],
      "source": [
        "!pip install beautifulsoup4\n",
        "!pip install selenium\n",
        "!apt-get update # to update ubuntu to correctly run apt install\n",
        "!apt install chromium-chromedriver\n",
        "!cp /usr/lib/chromium-browser/chromedriver /usr/bin\n",
        "import sys\n",
        "sys.path.insert(0,'/usr/lib/chromium-browser/chromedriver')\n",
        "from selenium import webdriver\n",
        "chrome_options = webdriver.ChromeOptions()\n",
        "chrome_options.add_argument('--headless')\n",
        "chrome_options.add_argument('--no-sandbox')\n",
        "chrome_options.add_argument('--disable-dev-shm-usage')"
      ]
    },
    {
      "cell_type": "code",
      "source": [
        "from bs4 import BeautifulSoup as BS\n",
        "from selenium import webdriver\n",
        "from functools import reduce\n",
        "import pandas as pd\n",
        "import time\n",
        "from google.colab import drive\n",
        "import os\n",
        "drive.mount('/content/drive')\n",
        "my_dir = './drive/MyDrive/'\n",
        "\n"
      ],
      "metadata": {
        "colab": {
          "base_uri": "https://localhost:8080/"
        },
        "id": "Oy1-8_kwwLCG",
        "outputId": "e55cbf4f-2faa-4e94-975f-d5ee2badf15d"
      },
      "execution_count": 3,
      "outputs": [
        {
          "output_type": "stream",
          "name": "stdout",
          "text": [
            "Mounted at /content/drive\n"
          ]
        }
      ]
    },
    {
      "cell_type": "code",
      "source": [
        "def render_page(url):\n",
        "        wd = webdriver.Chrome('chromedriver',chrome_options=chrome_options)\n",
        "        wd.get(url)\n",
        "        time.sleep(6)\n",
        "        r = wd.page_source\n",
        "        wd.quit()\n",
        "        return r"
      ],
      "metadata": {
        "id": "zOj9ALcow7De"
      },
      "execution_count": 4,
      "outputs": []
    },
    {
      "cell_type": "code",
      "source": [
        "def scraper(page, dates):\n",
        "        output = pd.DataFrame()\n",
        "\n",
        "        for d in dates:\n",
        "\n",
        "            url = str(str(page) + str(d))\n",
        "\n",
        "            r = render_page(url)\n",
        "\n",
        "            soup = BS(r, \"html.parser\")\n",
        "            container = soup.find('lib-city-history-observation')\n",
        "            check = container.find('tbody')\n",
        "\n",
        "            data = []\n",
        "\n",
        "            for c in check.find_all('tr', class_='ng-star-inserted'):\n",
        "                for i in c.find_all('td', class_='ng-star-inserted'):\n",
        "                    trial = i.text\n",
        "                    trial = trial.strip('  ')\n",
        "                    data.append(trial)\n",
        "\n",
        "            if round(len(data) / 17 - 1) == 31:\n",
        "                Temperature = pd.DataFrame([data[32:128][x:x + 3] for x in range(0, len(data[32:128]), 3)][1:],\n",
        "                                           columns=['Temp_max', 'Temp_avg', 'Temp_min'])\n",
        "                Dew_Point = pd.DataFrame([data[128:224][x:x + 3] for x in range(0, len(data[128:224]), 3)][1:],\n",
        "                                         columns=['Dew_max', 'Dew_avg', 'Dew_min'])\n",
        "                Humidity = pd.DataFrame([data[224:320][x:x + 3] for x in range(0, len(data[224:320]), 3)][1:],\n",
        "                                        columns=['Hum_max', 'Hum_avg', 'Hum_min'])\n",
        "                Wind = pd.DataFrame([data[320:416][x:x + 3] for x in range(0, len(data[320:416]), 3)][1:],\n",
        "                                    columns=['Wind_max', 'Wind_avg', 'Wind_min'])\n",
        "                Pressure = pd.DataFrame([data[416:512][x:x + 3] for x in range(0, len(data[416:512]), 3)][1:],\n",
        "                                        columns=['Pres_max', 'Pres_avg', 'Pres_min'])\n",
        "                Date = pd.DataFrame(data[:32][1:], columns=data[:1])\n",
        "                Precipitation = pd.DataFrame(data[512:][1:], columns=['Precipitation'])\n",
        "                print(str(str(d) + ' finished!'))\n",
        "            elif round(len(data) / 17 - 1) == 28:\n",
        "                Temperature = pd.DataFrame([data[29:116][x:x + 3] for x in range(0, len(data[29:116]), 3)][1:],\n",
        "                                           columns=['Temp_max', 'Temp_avg', 'Temp_min'])\n",
        "                Dew_Point = pd.DataFrame([data[116:203][x:x + 3] for x in range(0, len(data[116:203]), 3)][1:],\n",
        "                                         columns=['Dew_max', 'Dew_avg', 'Dew_min'])\n",
        "                Humidity = pd.DataFrame([data[203:290][x:x + 3] for x in range(0, len(data[203:290]), 3)][1:],\n",
        "                                        columns=['Hum_max', 'Hum_avg', 'Hum_min'])\n",
        "                Wind = pd.DataFrame([data[290:377][x:x + 3] for x in range(0, len(data[290:377]), 3)][1:],\n",
        "                                    columns=['Wind_max', 'Wind_avg', 'Wind_min'])\n",
        "                Pressure = pd.DataFrame([data[377:464][x:x + 3] for x in range(0, len(data[377:463]), 3)][1:],\n",
        "                                        columns=['Pres_max', 'Pres_avg', 'Pres_min'])\n",
        "                Date = pd.DataFrame(data[:29][1:], columns=data[:1])\n",
        "                Precipitation = pd.DataFrame(data[464:][1:], columns=['Precipitation'])\n",
        "                print(str(str(d) + ' finished!'))\n",
        "            elif round(len(data) / 17 - 1) == 29:\n",
        "                Temperature = pd.DataFrame([data[30:120][x:x + 3] for x in range(0, len(data[30:120]), 3)][1:],\n",
        "                                           columns=['Temp_max', 'Temp_avg', 'Temp_min'])\n",
        "                Dew_Point = pd.DataFrame([data[120:210][x:x + 3] for x in range(0, len(data[120:210]), 3)][1:],\n",
        "                                         columns=['Dew_max', 'Dew_avg', 'Dew_min'])\n",
        "                Humidity = pd.DataFrame([data[210:300][x:x + 3] for x in range(0, len(data[210:300]), 3)][1:],\n",
        "                                        columns=['Hum_max', 'Hum_avg', 'Hum_min'])\n",
        "                Wind = pd.DataFrame([data[300:390][x:x + 3] for x in range(0, len(data[300:390]), 3)][1:],\n",
        "                                    columns=['Wind_max', 'Wind_avg', 'Wind_min'])\n",
        "                Pressure = pd.DataFrame([data[390:480][x:x + 3] for x in range(0, len(data[390:480]), 3)][1:],\n",
        "                                        columns=['Pres_max', 'Pres_avg', 'Pres_min'])\n",
        "                Date = pd.DataFrame(data[:30][1:], columns=data[:1])\n",
        "                Precipitation = pd.DataFrame(data[480:][1:], columns=['Precipitation'])\n",
        "                print(str(str(d) + ' finished!'))\n",
        "            elif round(len(data) / 17 - 1) == 30:\n",
        "                Temperature = pd.DataFrame([data[31:124][x:x + 3] for x in range(0, len(data[31:124]), 3)][1:],\n",
        "                                           columns=['Temp_max', 'Temp_avg', 'Temp_min'])\n",
        "                Dew_Point = pd.DataFrame([data[124:217][x:x + 3] for x in range(0, len(data[124:217]), 3)][1:],\n",
        "                                         columns=['Dew_max', 'Dew_avg', 'Dew_min'])\n",
        "                Humidity = pd.DataFrame([data[217:310][x:x + 3] for x in range(0, len(data[217:310]), 3)][1:],\n",
        "                                        columns=['Hum_max', 'Hum_avg', 'Hum_min'])\n",
        "                Wind = pd.DataFrame([data[310:403][x:x + 3] for x in range(0, len(data[310:403]), 3)][1:],\n",
        "                                    columns=['Wind_max', 'Wind_avg', 'Wind_min'])\n",
        "                Pressure = pd.DataFrame([data[403:496][x:x + 3] for x in range(0, len(data[403:496]), 3)][1:],\n",
        "                                        columns=['Pres_max', 'Pres_avg', 'Pres_min'])\n",
        "                Date = pd.DataFrame(data[:31][1:], columns=data[:1])\n",
        "                Precipitation = pd.DataFrame(data[496:][1:], columns=['Precipitation'])\n",
        "                print(str(str(d) + ' finished!'))\n",
        "            else:\n",
        "                print('Data not in normal length')\n",
        "\n",
        "            dfs = [Date, Temperature, Dew_Point, Humidity, Wind, Pressure, Precipitation]\n",
        "\n",
        "            df_final = reduce(lambda left, right: pd.merge(left, right, left_index=True, right_index=True), dfs)\n",
        "\n",
        "            df_final['Date'] = str(d) + \"-\" + df_final.iloc[:, :1].astype(str)\n",
        "\n",
        "            output = output.append(df_final)\n",
        "\n",
        "        print('Scraper done!')\n",
        "\n",
        "        output = output[['Temp_avg', 'Temp_min', 'Temp_max', 'Dew_max', 'Dew_avg', 'Dew_min', 'Hum_max',\n",
        "                         'Hum_avg', 'Hum_min', 'Wind_max', 'Wind_avg', 'Wind_min', 'Pres_max',\n",
        "                         'Pres_avg', 'Pres_min', 'Precipitation', 'Date']]\n",
        "\n",
        "        return output\n",
        "                \n"
      ],
      "metadata": {
        "id": "zJo0aCrFxDrj"
      },
      "execution_count": 5,
      "outputs": []
    },
    {
      "cell_type": "code",
      "source": [
        "%%shell\n",
        "jupyter nbconvert --to html /content/Scrape_Wunderground.ipynb"
      ],
      "metadata": {
        "colab": {
          "base_uri": "https://localhost:8080/"
        },
        "id": "AYuHI3lLtFKh",
        "outputId": "78eb642f-2c06-4e98-d5a1-043aff47daae"
      },
      "execution_count": 17,
      "outputs": [
        {
          "output_type": "stream",
          "name": "stdout",
          "text": [
            "[NbConvertApp] Converting notebook /content/Scrape_Wunderground.ipynb to html\n",
            "[NbConvertApp] Writing 333243 bytes to /content/Scrape_Wunderground.html\n"
          ]
        },
        {
          "output_type": "execute_result",
          "data": {
            "text/plain": [
              ""
            ]
          },
          "metadata": {},
          "execution_count": 17
        }
      ]
    },
    {
      "cell_type": "code",
      "source": [
        "dates = [\"2020-1\", \"2020-2\", \"2020-3\", \"2020-4\", \"2020-5\"]\n",
        "date2 = [\"2020-6\", \"2020-7\", \"2020-8\", \"2020-9\", \"2020-10\", \"2020-11\"]\n",
        "date3 = [\"2020-12\", \"2021-1\", \"2021-2\", \"2021-3\", \"2021-4\", \"2021-5\"]\n",
        "date4 = [\"2021-6\", \"2021-7\", \"2021-8\", \"2021-9\", \"2021-10\", \"2021-11\", \"2021-12\"]\n",
        "\n",
        "page = 'https://www.wunderground.com/history/monthly/gb/london/EGLC/date/'\n",
        "df_output = scraper(page,dates)"
      ],
      "metadata": {
        "colab": {
          "base_uri": "https://localhost:8080/"
        },
        "id": "osx5zZ3gxOlj",
        "outputId": "1cc88616-b2d7-4730-f678-df72af593c29"
      },
      "execution_count": 6,
      "outputs": [
        {
          "output_type": "stream",
          "name": "stderr",
          "text": [
            "/usr/local/lib/python3.7/dist-packages/ipykernel_launcher.py:2: DeprecationWarning: use options instead of chrome_options\n",
            "  \n"
          ]
        },
        {
          "output_type": "stream",
          "name": "stdout",
          "text": [
            "2020-1 finished!\n"
          ]
        },
        {
          "output_type": "stream",
          "name": "stderr",
          "text": [
            "/usr/local/lib/python3.7/dist-packages/ipykernel_launcher.py:2: DeprecationWarning: use options instead of chrome_options\n",
            "  \n"
          ]
        },
        {
          "output_type": "stream",
          "name": "stdout",
          "text": [
            "2020-2 finished!\n"
          ]
        },
        {
          "output_type": "stream",
          "name": "stderr",
          "text": [
            "/usr/local/lib/python3.7/dist-packages/ipykernel_launcher.py:2: DeprecationWarning: use options instead of chrome_options\n",
            "  \n"
          ]
        },
        {
          "output_type": "stream",
          "name": "stdout",
          "text": [
            "2020-3 finished!\n"
          ]
        },
        {
          "output_type": "stream",
          "name": "stderr",
          "text": [
            "/usr/local/lib/python3.7/dist-packages/ipykernel_launcher.py:2: DeprecationWarning: use options instead of chrome_options\n",
            "  \n"
          ]
        },
        {
          "output_type": "stream",
          "name": "stdout",
          "text": [
            "2020-4 finished!\n"
          ]
        },
        {
          "output_type": "stream",
          "name": "stderr",
          "text": [
            "/usr/local/lib/python3.7/dist-packages/ipykernel_launcher.py:2: DeprecationWarning: use options instead of chrome_options\n",
            "  \n"
          ]
        },
        {
          "output_type": "stream",
          "name": "stdout",
          "text": [
            "2020-5 finished!\n",
            "Scraper done!\n"
          ]
        }
      ]
    },
    {
      "cell_type": "code",
      "source": [
        "df_output2 = scraper(page,date2)\n",
        "df_output3 = scraper(page,date3)\n",
        "df_output4 = scraper(page,date4)"
      ],
      "metadata": {
        "id": "5zoiGTVZxjrs"
      },
      "execution_count": null,
      "outputs": []
    },
    {
      "cell_type": "code",
      "source": [
        "df_all_london_weather.sort_values(by=[\"Precipitation\"], ascending=False)"
      ],
      "metadata": {
        "colab": {
          "base_uri": "https://localhost:8080/",
          "height": 661
        },
        "id": "mjCfCR5a_aCW",
        "outputId": "b9d6959d-7e26-4f9b-b079-546576f696e4"
      },
      "execution_count": 16,
      "outputs": [
        {
          "output_type": "execute_result",
          "data": {
            "text/html": [
              "\n",
              "  <div id=\"df-3aa55eb5-e6ed-4dfc-a8bf-5b38cd3c430c\">\n",
              "    <div class=\"colab-df-container\">\n",
              "      <div>\n",
              "<style scoped>\n",
              "    .dataframe tbody tr th:only-of-type {\n",
              "        vertical-align: middle;\n",
              "    }\n",
              "\n",
              "    .dataframe tbody tr th {\n",
              "        vertical-align: top;\n",
              "    }\n",
              "\n",
              "    .dataframe thead th {\n",
              "        text-align: right;\n",
              "    }\n",
              "</style>\n",
              "<table border=\"1\" class=\"dataframe\">\n",
              "  <thead>\n",
              "    <tr style=\"text-align: right;\">\n",
              "      <th></th>\n",
              "      <th>Temp_avg</th>\n",
              "      <th>Temp_min</th>\n",
              "      <th>Dew_max</th>\n",
              "      <th>Dew_avg</th>\n",
              "      <th>Dew_min</th>\n",
              "      <th>Hum_max</th>\n",
              "      <th>Hum_avg</th>\n",
              "      <th>Hum_min</th>\n",
              "      <th>Wind_max</th>\n",
              "      <th>Wind_avg</th>\n",
              "      <th>Wind_min</th>\n",
              "      <th>Pres_max</th>\n",
              "      <th>Pres_avg</th>\n",
              "      <th>Pres_min</th>\n",
              "      <th>Precipitation</th>\n",
              "      <th>Date</th>\n",
              "    </tr>\n",
              "  </thead>\n",
              "  <tbody>\n",
              "    <tr>\n",
              "      <th>0</th>\n",
              "      <td>41.6</td>\n",
              "      <td>36</td>\n",
              "      <td>43</td>\n",
              "      <td>38.9</td>\n",
              "      <td>36</td>\n",
              "      <td>100</td>\n",
              "      <td>91.1</td>\n",
              "      <td>81</td>\n",
              "      <td>7</td>\n",
              "      <td>4.0</td>\n",
              "      <td>1</td>\n",
              "      <td>30.4</td>\n",
              "      <td>30.4</td>\n",
              "      <td>30.3</td>\n",
              "      <td>0.00</td>\n",
              "      <td>2020-1-1</td>\n",
              "    </tr>\n",
              "    <tr>\n",
              "      <th>24</th>\n",
              "      <td>46.7</td>\n",
              "      <td>41</td>\n",
              "      <td>39</td>\n",
              "      <td>35.8</td>\n",
              "      <td>32</td>\n",
              "      <td>93</td>\n",
              "      <td>67.2</td>\n",
              "      <td>47</td>\n",
              "      <td>18</td>\n",
              "      <td>13.0</td>\n",
              "      <td>3</td>\n",
              "      <td>30.4</td>\n",
              "      <td>30.4</td>\n",
              "      <td>30.3</td>\n",
              "      <td>0.00</td>\n",
              "      <td>2021-4-25</td>\n",
              "    </tr>\n",
              "    <tr>\n",
              "      <th>26</th>\n",
              "      <td>49.4</td>\n",
              "      <td>37</td>\n",
              "      <td>39</td>\n",
              "      <td>33.8</td>\n",
              "      <td>25</td>\n",
              "      <td>87</td>\n",
              "      <td>58.4</td>\n",
              "      <td>26</td>\n",
              "      <td>16</td>\n",
              "      <td>6.4</td>\n",
              "      <td>0</td>\n",
              "      <td>30.0</td>\n",
              "      <td>29.8</td>\n",
              "      <td>29.7</td>\n",
              "      <td>0.00</td>\n",
              "      <td>2021-4-27</td>\n",
              "    </tr>\n",
              "    <tr>\n",
              "      <th>27</th>\n",
              "      <td>48.6</td>\n",
              "      <td>45</td>\n",
              "      <td>39</td>\n",
              "      <td>35.5</td>\n",
              "      <td>30</td>\n",
              "      <td>76</td>\n",
              "      <td>61.8</td>\n",
              "      <td>41</td>\n",
              "      <td>21</td>\n",
              "      <td>9.5</td>\n",
              "      <td>2</td>\n",
              "      <td>29.8</td>\n",
              "      <td>29.7</td>\n",
              "      <td>29.7</td>\n",
              "      <td>0.00</td>\n",
              "      <td>2021-4-28</td>\n",
              "    </tr>\n",
              "    <tr>\n",
              "      <th>28</th>\n",
              "      <td>46.7</td>\n",
              "      <td>41</td>\n",
              "      <td>37</td>\n",
              "      <td>32.1</td>\n",
              "      <td>27</td>\n",
              "      <td>76</td>\n",
              "      <td>58.2</td>\n",
              "      <td>38</td>\n",
              "      <td>10</td>\n",
              "      <td>7.3</td>\n",
              "      <td>2</td>\n",
              "      <td>30.0</td>\n",
              "      <td>29.9</td>\n",
              "      <td>29.8</td>\n",
              "      <td>0.00</td>\n",
              "      <td>2021-4-29</td>\n",
              "    </tr>\n",
              "    <tr>\n",
              "      <th>...</th>\n",
              "      <td>...</td>\n",
              "      <td>...</td>\n",
              "      <td>...</td>\n",
              "      <td>...</td>\n",
              "      <td>...</td>\n",
              "      <td>...</td>\n",
              "      <td>...</td>\n",
              "      <td>...</td>\n",
              "      <td>...</td>\n",
              "      <td>...</td>\n",
              "      <td>...</td>\n",
              "      <td>...</td>\n",
              "      <td>...</td>\n",
              "      <td>...</td>\n",
              "      <td>...</td>\n",
              "      <td>...</td>\n",
              "    </tr>\n",
              "    <tr>\n",
              "      <th>1</th>\n",
              "      <td>61.7</td>\n",
              "      <td>55</td>\n",
              "      <td>57</td>\n",
              "      <td>50.7</td>\n",
              "      <td>45</td>\n",
              "      <td>88</td>\n",
              "      <td>69.0</td>\n",
              "      <td>43</td>\n",
              "      <td>13</td>\n",
              "      <td>7.1</td>\n",
              "      <td>3</td>\n",
              "      <td>30.1</td>\n",
              "      <td>30.1</td>\n",
              "      <td>30.0</td>\n",
              "      <td>0.00</td>\n",
              "      <td>2020-9-2</td>\n",
              "    </tr>\n",
              "    <tr>\n",
              "      <th>2</th>\n",
              "      <td>66.7</td>\n",
              "      <td>61</td>\n",
              "      <td>64</td>\n",
              "      <td>60.0</td>\n",
              "      <td>54</td>\n",
              "      <td>94</td>\n",
              "      <td>78.7</td>\n",
              "      <td>68</td>\n",
              "      <td>16</td>\n",
              "      <td>12.5</td>\n",
              "      <td>8</td>\n",
              "      <td>30.1</td>\n",
              "      <td>30.0</td>\n",
              "      <td>29.9</td>\n",
              "      <td>0.00</td>\n",
              "      <td>2020-9-3</td>\n",
              "    </tr>\n",
              "    <tr>\n",
              "      <th>3</th>\n",
              "      <td>61.9</td>\n",
              "      <td>57</td>\n",
              "      <td>54</td>\n",
              "      <td>51.6</td>\n",
              "      <td>46</td>\n",
              "      <td>88</td>\n",
              "      <td>69.5</td>\n",
              "      <td>52</td>\n",
              "      <td>14</td>\n",
              "      <td>10.5</td>\n",
              "      <td>7</td>\n",
              "      <td>30.2</td>\n",
              "      <td>30.1</td>\n",
              "      <td>30.1</td>\n",
              "      <td>0.00</td>\n",
              "      <td>2020-9-4</td>\n",
              "    </tr>\n",
              "    <tr>\n",
              "      <th>4</th>\n",
              "      <td>60.1</td>\n",
              "      <td>54</td>\n",
              "      <td>52</td>\n",
              "      <td>47.2</td>\n",
              "      <td>43</td>\n",
              "      <td>88</td>\n",
              "      <td>64.2</td>\n",
              "      <td>43</td>\n",
              "      <td>14</td>\n",
              "      <td>9.1</td>\n",
              "      <td>5</td>\n",
              "      <td>30.2</td>\n",
              "      <td>30.1</td>\n",
              "      <td>30.1</td>\n",
              "      <td>0.00</td>\n",
              "      <td>2020-9-5</td>\n",
              "    </tr>\n",
              "    <tr>\n",
              "      <th>30</th>\n",
              "      <td>56.7</td>\n",
              "      <td>55</td>\n",
              "      <td>54</td>\n",
              "      <td>52.1</td>\n",
              "      <td>50</td>\n",
              "      <td>94</td>\n",
              "      <td>83.4</td>\n",
              "      <td>77</td>\n",
              "      <td>17</td>\n",
              "      <td>12.2</td>\n",
              "      <td>6</td>\n",
              "      <td>30.1</td>\n",
              "      <td>30.0</td>\n",
              "      <td>29.9</td>\n",
              "      <td>0.00</td>\n",
              "      <td>2021-12-31</td>\n",
              "    </tr>\n",
              "  </tbody>\n",
              "</table>\n",
              "<p>731 rows × 16 columns</p>\n",
              "</div>\n",
              "      <button class=\"colab-df-convert\" onclick=\"convertToInteractive('df-3aa55eb5-e6ed-4dfc-a8bf-5b38cd3c430c')\"\n",
              "              title=\"Convert this dataframe to an interactive table.\"\n",
              "              style=\"display:none;\">\n",
              "        \n",
              "  <svg xmlns=\"http://www.w3.org/2000/svg\" height=\"24px\"viewBox=\"0 0 24 24\"\n",
              "       width=\"24px\">\n",
              "    <path d=\"M0 0h24v24H0V0z\" fill=\"none\"/>\n",
              "    <path d=\"M18.56 5.44l.94 2.06.94-2.06 2.06-.94-2.06-.94-.94-2.06-.94 2.06-2.06.94zm-11 1L8.5 8.5l.94-2.06 2.06-.94-2.06-.94L8.5 2.5l-.94 2.06-2.06.94zm10 10l.94 2.06.94-2.06 2.06-.94-2.06-.94-.94-2.06-.94 2.06-2.06.94z\"/><path d=\"M17.41 7.96l-1.37-1.37c-.4-.4-.92-.59-1.43-.59-.52 0-1.04.2-1.43.59L10.3 9.45l-7.72 7.72c-.78.78-.78 2.05 0 2.83L4 21.41c.39.39.9.59 1.41.59.51 0 1.02-.2 1.41-.59l7.78-7.78 2.81-2.81c.8-.78.8-2.07 0-2.86zM5.41 20L4 18.59l7.72-7.72 1.47 1.35L5.41 20z\"/>\n",
              "  </svg>\n",
              "      </button>\n",
              "      \n",
              "  <style>\n",
              "    .colab-df-container {\n",
              "      display:flex;\n",
              "      flex-wrap:wrap;\n",
              "      gap: 12px;\n",
              "    }\n",
              "\n",
              "    .colab-df-convert {\n",
              "      background-color: #E8F0FE;\n",
              "      border: none;\n",
              "      border-radius: 50%;\n",
              "      cursor: pointer;\n",
              "      display: none;\n",
              "      fill: #1967D2;\n",
              "      height: 32px;\n",
              "      padding: 0 0 0 0;\n",
              "      width: 32px;\n",
              "    }\n",
              "\n",
              "    .colab-df-convert:hover {\n",
              "      background-color: #E2EBFA;\n",
              "      box-shadow: 0px 1px 2px rgba(60, 64, 67, 0.3), 0px 1px 3px 1px rgba(60, 64, 67, 0.15);\n",
              "      fill: #174EA6;\n",
              "    }\n",
              "\n",
              "    [theme=dark] .colab-df-convert {\n",
              "      background-color: #3B4455;\n",
              "      fill: #D2E3FC;\n",
              "    }\n",
              "\n",
              "    [theme=dark] .colab-df-convert:hover {\n",
              "      background-color: #434B5C;\n",
              "      box-shadow: 0px 1px 3px 1px rgba(0, 0, 0, 0.15);\n",
              "      filter: drop-shadow(0px 1px 2px rgba(0, 0, 0, 0.3));\n",
              "      fill: #FFFFFF;\n",
              "    }\n",
              "  </style>\n",
              "\n",
              "      <script>\n",
              "        const buttonEl =\n",
              "          document.querySelector('#df-3aa55eb5-e6ed-4dfc-a8bf-5b38cd3c430c button.colab-df-convert');\n",
              "        buttonEl.style.display =\n",
              "          google.colab.kernel.accessAllowed ? 'block' : 'none';\n",
              "\n",
              "        async function convertToInteractive(key) {\n",
              "          const element = document.querySelector('#df-3aa55eb5-e6ed-4dfc-a8bf-5b38cd3c430c');\n",
              "          const dataTable =\n",
              "            await google.colab.kernel.invokeFunction('convertToInteractive',\n",
              "                                                     [key], {});\n",
              "          if (!dataTable) return;\n",
              "\n",
              "          const docLinkHtml = 'Like what you see? Visit the ' +\n",
              "            '<a target=\"_blank\" href=https://colab.research.google.com/notebooks/data_table.ipynb>data table notebook</a>'\n",
              "            + ' to learn more about interactive tables.';\n",
              "          element.innerHTML = '';\n",
              "          dataTable['output_type'] = 'display_data';\n",
              "          await google.colab.output.renderOutput(dataTable, element);\n",
              "          const docLink = document.createElement('div');\n",
              "          docLink.innerHTML = docLinkHtml;\n",
              "          element.appendChild(docLink);\n",
              "        }\n",
              "      </script>\n",
              "    </div>\n",
              "  </div>\n",
              "  "
            ],
            "text/plain": [
              "   Temp_avg Temp_min Dew_max  ... Pres_min Precipitation        Date\n",
              "0      41.6       36      43  ...     30.3          0.00    2020-1-1\n",
              "24     46.7       41      39  ...     30.3          0.00   2021-4-25\n",
              "26     49.4       37      39  ...     29.7          0.00   2021-4-27\n",
              "27     48.6       45      39  ...     29.7          0.00   2021-4-28\n",
              "28     46.7       41      37  ...     29.8          0.00   2021-4-29\n",
              "..      ...      ...     ...  ...      ...           ...         ...\n",
              "1      61.7       55      57  ...     30.0          0.00    2020-9-2\n",
              "2      66.7       61      64  ...     29.9          0.00    2020-9-3\n",
              "3      61.9       57      54  ...     30.1          0.00    2020-9-4\n",
              "4      60.1       54      52  ...     30.1          0.00    2020-9-5\n",
              "30     56.7       55      54  ...     29.9          0.00  2021-12-31\n",
              "\n",
              "[731 rows x 16 columns]"
            ]
          },
          "metadata": {},
          "execution_count": 16
        }
      ]
    },
    {
      "cell_type": "code",
      "source": [
        "df_all_london_weather.to_csv(my_dir+'london_weather_data.csv', index=False)"
      ],
      "metadata": {
        "id": "uP0uzzkP_o5O"
      },
      "execution_count": 13,
      "outputs": []
    }
  ]
}